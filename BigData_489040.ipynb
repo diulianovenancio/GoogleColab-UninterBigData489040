{
  "cells": [
    {
      "cell_type": "markdown",
      "metadata": {
        "id": "view-in-github",
        "colab_type": "text"
      },
      "source": [
        "<a href=\"https://colab.research.google.com/github/diulianovenancio/GoogleColab-UninterBigData489040/blob/main/BigData_489040.ipynb\" target=\"_parent\"><img src=\"https://colab.research.google.com/assets/colab-badge.svg\" alt=\"Open In Colab\"/></a>"
      ]
    },
    {
      "cell_type": "code",
      "execution_count": 2,
      "metadata": {
        "colab": {
          "base_uri": "https://localhost:8080/",
          "height": 73
        },
        "id": "3UHRsLH5V5BV",
        "outputId": "db574451-0110-4079-d264-48028819d949"
      },
      "outputs": [
        {
          "output_type": "display_data",
          "data": {
            "text/plain": [
              "<IPython.core.display.HTML object>"
            ],
            "text/html": [
              "\n",
              "     <input type=\"file\" id=\"files-dcc5be4c-9584-4adb-8dfe-43bda4a2da50\" name=\"files[]\" multiple disabled\n",
              "        style=\"border:none\" />\n",
              "     <output id=\"result-dcc5be4c-9584-4adb-8dfe-43bda4a2da50\">\n",
              "      Upload widget is only available when the cell has been executed in the\n",
              "      current browser session. Please rerun this cell to enable.\n",
              "      </output>\n",
              "      <script>// Copyright 2017 Google LLC\n",
              "//\n",
              "// Licensed under the Apache License, Version 2.0 (the \"License\");\n",
              "// you may not use this file except in compliance with the License.\n",
              "// You may obtain a copy of the License at\n",
              "//\n",
              "//      http://www.apache.org/licenses/LICENSE-2.0\n",
              "//\n",
              "// Unless required by applicable law or agreed to in writing, software\n",
              "// distributed under the License is distributed on an \"AS IS\" BASIS,\n",
              "// WITHOUT WARRANTIES OR CONDITIONS OF ANY KIND, either express or implied.\n",
              "// See the License for the specific language governing permissions and\n",
              "// limitations under the License.\n",
              "\n",
              "/**\n",
              " * @fileoverview Helpers for google.colab Python module.\n",
              " */\n",
              "(function(scope) {\n",
              "function span(text, styleAttributes = {}) {\n",
              "  const element = document.createElement('span');\n",
              "  element.textContent = text;\n",
              "  for (const key of Object.keys(styleAttributes)) {\n",
              "    element.style[key] = styleAttributes[key];\n",
              "  }\n",
              "  return element;\n",
              "}\n",
              "\n",
              "// Max number of bytes which will be uploaded at a time.\n",
              "const MAX_PAYLOAD_SIZE = 100 * 1024;\n",
              "\n",
              "function _uploadFiles(inputId, outputId) {\n",
              "  const steps = uploadFilesStep(inputId, outputId);\n",
              "  const outputElement = document.getElementById(outputId);\n",
              "  // Cache steps on the outputElement to make it available for the next call\n",
              "  // to uploadFilesContinue from Python.\n",
              "  outputElement.steps = steps;\n",
              "\n",
              "  return _uploadFilesContinue(outputId);\n",
              "}\n",
              "\n",
              "// This is roughly an async generator (not supported in the browser yet),\n",
              "// where there are multiple asynchronous steps and the Python side is going\n",
              "// to poll for completion of each step.\n",
              "// This uses a Promise to block the python side on completion of each step,\n",
              "// then passes the result of the previous step as the input to the next step.\n",
              "function _uploadFilesContinue(outputId) {\n",
              "  const outputElement = document.getElementById(outputId);\n",
              "  const steps = outputElement.steps;\n",
              "\n",
              "  const next = steps.next(outputElement.lastPromiseValue);\n",
              "  return Promise.resolve(next.value.promise).then((value) => {\n",
              "    // Cache the last promise value to make it available to the next\n",
              "    // step of the generator.\n",
              "    outputElement.lastPromiseValue = value;\n",
              "    return next.value.response;\n",
              "  });\n",
              "}\n",
              "\n",
              "/**\n",
              " * Generator function which is called between each async step of the upload\n",
              " * process.\n",
              " * @param {string} inputId Element ID of the input file picker element.\n",
              " * @param {string} outputId Element ID of the output display.\n",
              " * @return {!Iterable<!Object>} Iterable of next steps.\n",
              " */\n",
              "function* uploadFilesStep(inputId, outputId) {\n",
              "  const inputElement = document.getElementById(inputId);\n",
              "  inputElement.disabled = false;\n",
              "\n",
              "  const outputElement = document.getElementById(outputId);\n",
              "  outputElement.innerHTML = '';\n",
              "\n",
              "  const pickedPromise = new Promise((resolve) => {\n",
              "    inputElement.addEventListener('change', (e) => {\n",
              "      resolve(e.target.files);\n",
              "    });\n",
              "  });\n",
              "\n",
              "  const cancel = document.createElement('button');\n",
              "  inputElement.parentElement.appendChild(cancel);\n",
              "  cancel.textContent = 'Cancel upload';\n",
              "  const cancelPromise = new Promise((resolve) => {\n",
              "    cancel.onclick = () => {\n",
              "      resolve(null);\n",
              "    };\n",
              "  });\n",
              "\n",
              "  // Wait for the user to pick the files.\n",
              "  const files = yield {\n",
              "    promise: Promise.race([pickedPromise, cancelPromise]),\n",
              "    response: {\n",
              "      action: 'starting',\n",
              "    }\n",
              "  };\n",
              "\n",
              "  cancel.remove();\n",
              "\n",
              "  // Disable the input element since further picks are not allowed.\n",
              "  inputElement.disabled = true;\n",
              "\n",
              "  if (!files) {\n",
              "    return {\n",
              "      response: {\n",
              "        action: 'complete',\n",
              "      }\n",
              "    };\n",
              "  }\n",
              "\n",
              "  for (const file of files) {\n",
              "    const li = document.createElement('li');\n",
              "    li.append(span(file.name, {fontWeight: 'bold'}));\n",
              "    li.append(span(\n",
              "        `(${file.type || 'n/a'}) - ${file.size} bytes, ` +\n",
              "        `last modified: ${\n",
              "            file.lastModifiedDate ? file.lastModifiedDate.toLocaleDateString() :\n",
              "                                    'n/a'} - `));\n",
              "    const percent = span('0% done');\n",
              "    li.appendChild(percent);\n",
              "\n",
              "    outputElement.appendChild(li);\n",
              "\n",
              "    const fileDataPromise = new Promise((resolve) => {\n",
              "      const reader = new FileReader();\n",
              "      reader.onload = (e) => {\n",
              "        resolve(e.target.result);\n",
              "      };\n",
              "      reader.readAsArrayBuffer(file);\n",
              "    });\n",
              "    // Wait for the data to be ready.\n",
              "    let fileData = yield {\n",
              "      promise: fileDataPromise,\n",
              "      response: {\n",
              "        action: 'continue',\n",
              "      }\n",
              "    };\n",
              "\n",
              "    // Use a chunked sending to avoid message size limits. See b/62115660.\n",
              "    let position = 0;\n",
              "    do {\n",
              "      const length = Math.min(fileData.byteLength - position, MAX_PAYLOAD_SIZE);\n",
              "      const chunk = new Uint8Array(fileData, position, length);\n",
              "      position += length;\n",
              "\n",
              "      const base64 = btoa(String.fromCharCode.apply(null, chunk));\n",
              "      yield {\n",
              "        response: {\n",
              "          action: 'append',\n",
              "          file: file.name,\n",
              "          data: base64,\n",
              "        },\n",
              "      };\n",
              "\n",
              "      let percentDone = fileData.byteLength === 0 ?\n",
              "          100 :\n",
              "          Math.round((position / fileData.byteLength) * 100);\n",
              "      percent.textContent = `${percentDone}% done`;\n",
              "\n",
              "    } while (position < fileData.byteLength);\n",
              "  }\n",
              "\n",
              "  // All done.\n",
              "  yield {\n",
              "    response: {\n",
              "      action: 'complete',\n",
              "    }\n",
              "  };\n",
              "}\n",
              "\n",
              "scope.google = scope.google || {};\n",
              "scope.google.colab = scope.google.colab || {};\n",
              "scope.google.colab._files = {\n",
              "  _uploadFiles,\n",
              "  _uploadFilesContinue,\n",
              "};\n",
              "})(self);\n",
              "</script> "
            ]
          },
          "metadata": {}
        },
        {
          "output_type": "stream",
          "name": "stdout",
          "text": [
            "Saving imdb-reviews-pt-br.csv to imdb-reviews-pt-br.csv\n"
          ]
        }
      ],
      "source": [
        "#Importar o arquivo CSV para o google colab\n",
        "from google.colab import files\n",
        "uploaded = files.upload()"
      ]
    },
    {
      "cell_type": "code",
      "execution_count": 3,
      "metadata": {
        "id": "VTyAPkcpWQDD",
        "colab": {
          "base_uri": "https://localhost:8080/"
        },
        "outputId": "20e65634-1c76-4237-b603-1c3b91c0cd96"
      },
      "outputs": [
        {
          "output_type": "stream",
          "name": "stdout",
          "text": [
            "          id                                            text_en  \\\n",
            "0          1  Once again Mr. Costner has dragged out a movie...   \n",
            "1          2  This is an example of why the majority of acti...   \n",
            "2          3  First of all I hate those moronic rappers, who...   \n",
            "3          4  Not even the Beatles could write songs everyon...   \n",
            "4          5  Brass pictures movies is not a fitting word fo...   \n",
            "...      ...                                                ...   \n",
            "49454  49456  Seeing as the vote average was pretty low, and...   \n",
            "49455  49457  The plot had some wretched, unbelievable twist...   \n",
            "49456  49458  I am amazed at how this movieand most others h...   \n",
            "49457  49459  A Christmas Together actually came before my t...   \n",
            "49458  49460  Working-class romantic drama from director Mar...   \n",
            "\n",
            "                                                 text_pt sentiment  \n",
            "0      Mais uma vez, o Sr. Costner arrumou um filme p...       neg  \n",
            "1      Este é um exemplo do motivo pelo qual a maiori...       neg  \n",
            "2      Primeiro de tudo eu odeio esses raps imbecis, ...       neg  \n",
            "3      Nem mesmo os Beatles puderam escrever músicas ...       neg  \n",
            "4      Filmes de fotos de latão não é uma palavra apr...       neg  \n",
            "...                                                  ...       ...  \n",
            "49454  Como a média de votos era muito baixa, e o fat...       pos  \n",
            "49455  O enredo teve algumas reviravoltas infelizes e...       pos  \n",
            "49456  Estou espantado com a forma como este filme e ...       pos  \n",
            "49457  A Christmas Together realmente veio antes do m...       pos  \n",
            "49458  O drama romântico da classe trabalhadora do di...       pos  \n",
            "\n",
            "[49459 rows x 4 columns]\n"
          ]
        }
      ],
      "source": [
        "#Bibliotecas necessárias\n",
        "import pandas as pd \n",
        "import io \n",
        "\n",
        "#Lendo e exibindo o arquivo importado\n",
        "df = pd.read_csv(io.BytesIO(uploaded['imdb-reviews-pt-br.csv'])) \n",
        "print(df)"
      ]
    },
    {
      "cell_type": "code",
      "source": [
        "#Separando e exibindo os dados\n",
        "question1 = df.loc[df['sentiment']=='neg']\n",
        "print(question1)"
      ],
      "metadata": {
        "colab": {
          "base_uri": "https://localhost:8080/"
        },
        "id": "HnOH8ChChW60",
        "outputId": "e843508c-7281-4858-fe13-eb36cdd717cb"
      },
      "execution_count": 4,
      "outputs": [
        {
          "output_type": "stream",
          "name": "stdout",
          "text": [
            "          id                                            text_en  \\\n",
            "0          1  Once again Mr. Costner has dragged out a movie...   \n",
            "1          2  This is an example of why the majority of acti...   \n",
            "2          3  First of all I hate those moronic rappers, who...   \n",
            "3          4  Not even the Beatles could write songs everyon...   \n",
            "4          5  Brass pictures movies is not a fitting word fo...   \n",
            "...      ...                                                ...   \n",
            "37113  37115  Towards the end of the movie, I felt it was to...   \n",
            "37114  37116  This is the kind of movie that my enemies cont...   \n",
            "37115  37117  I saw Descent last night at the Stockholm Film...   \n",
            "37116  37118  Some films that you pick up for a pound turn o...   \n",
            "37117  37119  This is one of the dumbest films, Ive ever see...   \n",
            "\n",
            "                                                 text_pt sentiment  \n",
            "0      Mais uma vez, o Sr. Costner arrumou um filme p...       neg  \n",
            "1      Este é um exemplo do motivo pelo qual a maiori...       neg  \n",
            "2      Primeiro de tudo eu odeio esses raps imbecis, ...       neg  \n",
            "3      Nem mesmo os Beatles puderam escrever músicas ...       neg  \n",
            "4      Filmes de fotos de latão não é uma palavra apr...       neg  \n",
            "...                                                  ...       ...  \n",
            "37113  No final do filme, senti que era muito técnico...       neg  \n",
            "37114  Este é o tipo de filme que meus inimigos me as...       neg  \n",
            "37115  Eu vi Descent na noite passada no Stockholm Fi...       neg  \n",
            "37116  Alguns filmes que você escolhe por um quilo sã...       neg  \n",
            "37117  Este é um dos filmes mais idiotas que já vi. E...       neg  \n",
            "\n",
            "[24765 rows x 4 columns]\n"
          ]
        }
      ]
    },
    {
      "cell_type": "code",
      "source": [
        "#Somando a coluna ID\n",
        "total_id = question1['id'].cumsum()\n",
        "print(total_id)"
      ],
      "metadata": {
        "colab": {
          "base_uri": "https://localhost:8080/"
        },
        "id": "Ied4spwvkgM7",
        "outputId": "5aa0559b-7b6f-4051-c28b-946006998946"
      },
      "execution_count": 5,
      "outputs": [
        {
          "output_type": "stream",
          "name": "stdout",
          "text": [
            "0                1\n",
            "1                3\n",
            "2                6\n",
            "3               10\n",
            "4               15\n",
            "           ...    \n",
            "37113    459420085\n",
            "37114    459457201\n",
            "37115    459494318\n",
            "37116    459531436\n",
            "37117    459568555\n",
            "Name: id, Length: 24765, dtype: int64\n"
          ]
        }
      ]
    },
    {
      "cell_type": "code",
      "source": [],
      "metadata": {
        "id": "0vRM91a804Yp"
      },
      "execution_count": null,
      "outputs": []
    }
  ],
  "metadata": {
    "colab": {
      "provenance": [],
      "authorship_tag": "ABX9TyNcrOXUzf8+BC2ZT6+FrnWw",
      "include_colab_link": true
    },
    "kernelspec": {
      "display_name": "Python 3",
      "name": "python3"
    },
    "language_info": {
      "name": "python"
    }
  },
  "nbformat": 4,
  "nbformat_minor": 0
}